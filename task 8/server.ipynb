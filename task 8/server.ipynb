{
 "cells": [
  {
   "cell_type": "code",
   "execution_count": 1,
   "metadata": {},
   "outputs": [
    {
     "name": "stdout",
     "output_type": "stream",
     "text": [
      "Server listening on port 59\n",
      "Received request for file mad.bin from ('127.0.0.1', 50626)\n",
      "Received request for file mad1.bin from ('127.0.0.1', 59981)\n"
     ]
    }
   ],
   "source": [
    "import socket\n",
    "\n",
    "with socket.socket(socket.AF_INET, socket.SOCK_DGRAM) as server_socket:\n",
    "    server_socket.bind(('localhost', 59))\n",
    "\n",
    "    print(\"Server listening on port 59\")\n",
    "\n",
    "    while True:\n",
    "        data, addr = server_socket.recvfrom(1024)\n",
    "        filename = data.decode('utf-8')\n",
    "        print(f\"Received request for file {filename} from {addr}\")\n",
    "        \n",
    "        with open(filename, 'rb') as file:\n",
    "            data = file.read()\n",
    "            text=\"\".join(chr(int(s,2)) for s in data.split())\n",
    "            server_socket.sendto(text.encode('utf-8'), addr)"
   ]
  }
 ],
 "metadata": {
  "kernelspec": {
   "display_name": "Python 3",
   "language": "python",
   "name": "python3"
  },
  "language_info": {
   "codemirror_mode": {
    "name": "ipython",
    "version": 3
   },
   "file_extension": ".py",
   "mimetype": "text/x-python",
   "name": "python",
   "nbconvert_exporter": "python",
   "pygments_lexer": "ipython3",
   "version": "3.12.2"
  }
 },
 "nbformat": 4,
 "nbformat_minor": 2
}
