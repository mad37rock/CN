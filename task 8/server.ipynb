{
 "cells": [
  {
   "cell_type": "code",
   "execution_count": 1,
   "metadata": {},
   "outputs": [
    {
     "name": "stdout",
     "output_type": "stream",
     "text": [
      "Client ('127.0.0.1', 62737) requested file: mad.bin\n"
     ]
    }
   ],
   "source": [
    "import socket\n",
    "import threading\n",
    "\n",
    "\n",
    "def handle_client(addr, data):\n",
    "    file_name = data.decode()\n",
    "    print(f\"Client {addr} requested file: {file_name}\")\n",
    "    with open(file_name, \"rb\") as file:\n",
    "        content = file.read()\n",
    "    s.sendto(content, addr)\n",
    "\n",
    "\n",
    "s = socket.socket(socket.AF_INET, socket.SOCK_DGRAM)\n",
    "s.bind((\"localhost\", 59))\n",
    "\n",
    "while True:\n",
    "    data, addr = s.recvfrom(1024)\n",
    "    thread = threading.Thread(target=handle_client, args=(addr, data))\n",
    "    thread.start()"
   ]
  }
 ],
 "metadata": {
  "kernelspec": {
   "display_name": "Python 3",
   "language": "python",
   "name": "python3"
  },
  "language_info": {
   "codemirror_mode": {
    "name": "ipython",
    "version": 3
   },
   "file_extension": ".py",
   "mimetype": "text/x-python",
   "name": "python",
   "nbconvert_exporter": "python",
   "pygments_lexer": "ipython3",
   "version": "3.12.2"
  }
 },
 "nbformat": 4,
 "nbformat_minor": 2
}
