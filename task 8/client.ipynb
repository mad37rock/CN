{
 "cells": [
  {
   "cell_type": "code",
   "execution_count": 3,
   "metadata": {},
   "outputs": [
    {
     "name": "stdout",
     "output_type": "stream",
     "text": [
      "I am Madhav\n"
     ]
    }
   ],
   "source": [
    "import socket\n",
    "\n",
    "def display_alphabetical_message(data):\n",
    "    print(data)\n",
    "\n",
    "with socket.socket(socket.AF_INET, socket.SOCK_DGRAM) as client_socket:\n",
    "    server_address = ('localhost', 59)\n",
    "\n",
    "    filename = input(\"Enter the name of the file you want to request: \")\n",
    "    client_socket.sendto(filename.encode('utf-8'), server_address)\n",
    "\n",
    "    data, _ = client_socket.recvfrom(1024)\n",
    "    alphabetical_data = data.decode('utf-8')\n",
    "\n",
    "    display_alphabetical_message(alphabetical_data)"
   ]
  }
 ],
 "metadata": {
  "kernelspec": {
   "display_name": "Python 3",
   "language": "python",
   "name": "python3"
  },
  "language_info": {
   "codemirror_mode": {
    "name": "ipython",
    "version": 3
   },
   "file_extension": ".py",
   "mimetype": "text/x-python",
   "name": "python",
   "nbconvert_exporter": "python",
   "pygments_lexer": "ipython3",
   "version": "3.12.2"
  }
 },
 "nbformat": 4,
 "nbformat_minor": 2
}
