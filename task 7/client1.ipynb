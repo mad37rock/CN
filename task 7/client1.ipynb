{
 "cells": [
  {
   "cell_type": "code",
   "execution_count": 1,
   "metadata": {},
   "outputs": [
    {
     "name": "stdout",
     "output_type": "stream",
     "text": [
      "i am client 1\n"
     ]
    }
   ],
   "source": [
    "import socket\n",
    "\n",
    "c = socket.socket(socket.AF_INET, socket.SOCK_STREAM)\n",
    "c.connect((\"localhost\", 57))\n",
    "\n",
    "c.sendall(\"client1.txt\".encode())\n",
    "con = c.recv(1024).decode()\n",
    "print(con)\n",
    "\n",
    "c.close()"
   ]
  }
 ],
 "metadata": {
  "kernelspec": {
   "display_name": "Python 3",
   "language": "python",
   "name": "python3"
  },
  "language_info": {
   "codemirror_mode": {
    "name": "ipython",
    "version": 3
   },
   "file_extension": ".py",
   "mimetype": "text/x-python",
   "name": "python",
   "nbconvert_exporter": "python",
   "pygments_lexer": "ipython3",
   "version": "3.12.2"
  }
 },
 "nbformat": 4,
 "nbformat_minor": 2
}
