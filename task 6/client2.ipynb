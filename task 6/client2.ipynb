{
 "cells": [
  {
   "cell_type": "code",
   "execution_count": 2,
   "metadata": {},
   "outputs": [
    {
     "name": "stdout",
     "output_type": "stream",
     "text": [
      "I am Madhav\n",
      "file received succesfully\n"
     ]
    }
   ],
   "source": [
    "import socket\n",
    "\n",
    "HOST='127.0.0.1'\n",
    "PORT=56\n",
    "c= socket.socket (socket.AF_INET, socket.SOCK_STREAM)\n",
    "c.connect((HOST,PORT))\n",
    "file_name=input(\"Enter the file name: \")\n",
    "c.sendall(file_name.encode())\n",
    "file_data = c.recv(1024)\n",
    "print(file_data.decode())\n",
    "print(\"file received succesfully\")\n",
    "c.close()"
   ]
  }
 ],
 "metadata": {
  "kernelspec": {
   "display_name": "Python 3",
   "language": "python",
   "name": "python3"
  },
  "language_info": {
   "codemirror_mode": {
    "name": "ipython",
    "version": 3
   },
   "file_extension": ".py",
   "mimetype": "text/x-python",
   "name": "python",
   "nbconvert_exporter": "python",
   "pygments_lexer": "ipython3",
   "version": "3.12.2"
  }
 },
 "nbformat": 4,
 "nbformat_minor": 2
}
