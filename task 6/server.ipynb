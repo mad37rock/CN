{
 "cells": [
  {
   "cell_type": "code",
   "execution_count": 1,
   "metadata": {},
   "outputs": [
    {
     "name": "stdout",
     "output_type": "stream",
     "text": [
      "Connecting a socket....\n",
      "Connected to localhost and port number is 55.\n",
      "server listening on port 55...\n",
      "File name received from client:  mad1.bin\n"
     ]
    }
   ],
   "source": [
    "import socket\n",
    "\n",
    "HOST='127.0.0.1'\n",
    "PORT=56\n",
    "server = socket. socket(socket. AF_INET, socket.SOCK_STREAM)\n",
    "print(\"Connecting a socket....\")\n",
    "server.bind((\"localhost\", 56))\n",
    "print(\"Connected to localhost and port number is 55.\")\n",
    "server.listen(1)\n",
    "print(\"server listening on port 55...\")\n",
    "while True:\n",
    "  c,addr= server.accept()\n",
    "  file_name = c.recv(1024).decode()\n",
    "  print(\"File name received from client: \",file_name)\n",
    "  f=open(file_name, 'rb')\n",
    "  file_data= f.read()\n",
    "  text = \"\".join(chr(int(s, 2)) for s in  file_data.split())\n",
    "  c.sendall(text.encode())\n",
    "  f.close()\n",
    "  c.close()"
   ]
  }
 ],
 "metadata": {
  "kernelspec": {
   "display_name": "Python 3",
   "language": "python",
   "name": "python3"
  },
  "language_info": {
   "codemirror_mode": {
    "name": "ipython",
    "version": 3
   },
   "file_extension": ".py",
   "mimetype": "text/x-python",
   "name": "python",
   "nbconvert_exporter": "python",
   "pygments_lexer": "ipython3",
   "version": "3.12.2"
  }
 },
 "nbformat": 4,
 "nbformat_minor": 2
}
